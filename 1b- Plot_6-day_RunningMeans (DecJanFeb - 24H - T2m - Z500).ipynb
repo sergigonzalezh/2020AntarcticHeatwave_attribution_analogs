{
 "cells": [
  {
   "cell_type": "code",
   "execution_count": 1,
   "metadata": {},
   "outputs": [],
   "source": [
    "import os\n",
    "import netCDF4\n",
    "\n",
    "import scipy\n",
    "import numpy as np\n",
    "import pandas as pd\n",
    "import seaborn as sns\n",
    "from scipy import stats\n",
    "\n",
    "import matplotlib.pyplot as plt\n",
    "import cartopy.crs as ccrs\n",
    "import cartopy.feature\n",
    "\n",
    "from matplotlib.collections import LineCollection\n",
    "from matplotlib.path import Path\n",
    "import matplotlib.path as mpath\n",
    "import matplotlib.patches as patches"
   ]
  },
  {
   "cell_type": "code",
   "execution_count": 2,
   "metadata": {},
   "outputs": [],
   "source": [
    "#################\n",
    "# Load Data\n",
    "#################\n",
    "#Path\n",
    "os.chdir('D:\\\\Bigfiles\\\\ERA5_Feb2020_Attribution')\n",
    "filename_sfc_T2M = 'Feb2020_Attr_sfc-1950-2020_t2m_24H.nc'\n",
    "filename_pres_Z = 'Feb2020_Attr_pres-1950-2020_Z500_24H.nc'\n",
    "\n",
    "#Load netcdf\n",
    "ncdf_T2M = netCDF4.Dataset(filename_sfc_T2M)\n",
    "ncdf_Z = netCDF4.Dataset(filename_pres_Z)\n",
    "\n",
    "#Get dimensions\n",
    "lons = ncdf_T2M.variables['longitude'][:]\n",
    "lats = ncdf_T2M.variables['latitude'][:]\n",
    "times = ncdf_T2M.variables['time'][:]\n",
    "\n",
    "#Calculate datetime\n",
    "dtimes = np.empty(len(times), dtype='datetime64[h]')\n",
    "for i,t in enumerate(times):\n",
    "    dtimes[i] = np.datetime64('1900-01-01') + np.timedelta64(np.int64(t),'h')\n",
    "dtimes = dtimes.astype('datetime64')\n",
    "\n",
    "#Get variables\n",
    "t2m = ncdf_T2M.variables['t2m'][:,:,:]-273.15\n",
    "z = ncdf_Z.variables['z'][:,:,:]/10"
   ]
  },
  {
   "cell_type": "code",
   "execution_count": 3,
   "metadata": {},
   "outputs": [],
   "source": [
    "#######################################################\n",
    "#Calculate the percentile of 6 day temperature from 1950-to-2019 and compare with 2020\n",
    "#######################################################\n",
    "#Calculate mean Tempearture of Feb 2020 and TClim (mean) of Feb 1950-2019\n",
    "dtimes_Clim = dtimes[dtimes < np.datetime64('2019-03-01T00:00')]\n",
    "\n",
    "#Calculate the mean of 6 day temperature from 5-10 Feb 2020\n",
    "T2m_5day_mean = np.empty((np.size(dtimes_Clim-6), np.size(t2m,1), np.size(t2m,2)))\n",
    "Z500_5day_mean = np.empty((np.size(dtimes_Clim-6), np.size(z,1), np.size(z,2)))\n",
    "for i in range(np.size(dtimes_Clim-6)):\n",
    "    T2m_5day_mean[i,:,:] = np.mean(t2m[i:i+6,:,:], axis=0)\n",
    "    Z500_5day_mean[i,:,:] = np.mean(z[i:i+6,:,:], axis=0)\n",
    "\n",
    "#Calculate the mean of 6 day temperature from 6-10 Feb 2020\n",
    "T2M611Feb_mean = np.mean(t2m[np.where(dtimes == np.datetime64('2020-02-06T00:00'))[0][0]:np.where(dtimes == np.datetime64('2020-02-11T00:00'))[0][0]+1,:,:], axis=0)\n",
    "Z500611Feb_mean = np.mean(z[np.where(dtimes == np.datetime64('2020-02-06T00:00'))[0][0]:np.where(dtimes == np.datetime64('2020-02-11T00:00'))[0][0]+1,:,:], axis=0)\n",
    "\n",
    "#Calculate and save the percentile\n",
    "T2M611Feb_percentile = np.empty((np.size(T2m_5day_mean, 1),np.size(T2m_5day_mean, 2)))\n",
    "Z500611Feb_percentile = np.empty((np.size(Z500_5day_mean, 1),np.size(Z500_5day_mean, 2)))\n",
    "for i in range(np.size(T2m_5day_mean, 1)):\n",
    "    for j in range(np.size(T2m_5day_mean, 2)):\n",
    "        T2M611Feb_percentile[i,j] = scipy.stats.percentileofscore(T2m_5day_mean[:,i,j], T2M611Feb_mean[i,j])\n",
    "        Z500611Feb_percentile[i,j] = scipy.stats.percentileofscore(Z500_5day_mean[:,i,j], Z500611Feb_mean[i,j])\n",
    "np.savetxt('T2M611Feb_percentile_24H.csv', T2M611Feb_percentile, fmt='%.1f', delimiter=';')\n",
    "np.savetxt('Z500611Feb_percentile_24H.csv', Z500611Feb_percentile, fmt='%.1f', delimiter=';')"
   ]
  },
  {
   "cell_type": "code",
   "execution_count": 4,
   "metadata": {},
   "outputs": [],
   "source": [
    "os.chdir('D:\\\\Bigfiles\\\\ERA5_Feb2020_Attribution')\n",
    "\n",
    "T2020 = np.loadtxt('T2020_24H.csv', delimiter=';')\n",
    "TClim = np.loadtxt('TClim_24H.csv', delimiter=';')\n",
    "T611Feb = np.loadtxt('T611Feb_24H.csv', delimiter=';')\n",
    "\n",
    "Z5002020 = np.loadtxt('Z5002020_24H.csv', delimiter=';')\n",
    "Z500Clim = np.loadtxt('Z500Clim_24H.csv', delimiter=';')\n",
    "Z500611Feb = np.loadtxt('Z500611Feb_24H.csv', delimiter=';')\n",
    "\n",
    "T2M611Feb_percentile = np.loadtxt('T2M_611Feb_percentile_24H.csv', delimiter=';')\n",
    "Z500611Feb_percentile = np.loadtxt('Z500_611Feb_percentile_24H.csv', delimiter=';')\n",
    "os.chdir('D:\\\\MEGA\\\\UBUNTU\\\\Jupyter\\\\GRUPOANTARTICO\\\\Atribution Feb2020')"
   ]
  },
  {
   "cell_type": "code",
   "execution_count": 5,
   "metadata": {},
   "outputs": [],
   "source": [
    "#Sectors indexs\n",
    "AP_lons = [-55, -76]\n",
    "AP_lats = [-62, -70]\n",
    "AP_ilats = [np.where(lats == AP_lats[0])[0][0],np.where(lats == AP_lats[1])[0][0]]\n",
    "AP_ilons = [np.where(lons == AP_lons[0])[0][0],np.where(lons == AP_lons[1])[0][0]]\n",
    "\n",
    "#Calculate weighting matrix\n",
    "lons_sec_grid_AP, lats_sec_grid_AP = np.meshgrid(lons[AP_ilons[1]:AP_ilons[0]+1], lats[AP_ilats[0]:AP_ilats[1]+1])\n",
    "weighting_grid_AP = np.sqrt(np.cos(lats_sec_grid_AP*np.pi/180))"
   ]
  },
  {
   "cell_type": "code",
   "execution_count": 6,
   "metadata": {},
   "outputs": [
    {
     "data": {
      "text/plain": [
       "4.51387400947657"
      ]
     },
     "execution_count": 6,
     "metadata": {},
     "output_type": "execute_result"
    }
   ],
   "source": [
    "#################\n",
    "# Add Land Sea Mask\n",
    "#################\n",
    "#Path\n",
    "os.chdir('D:\\\\Bigfiles\\\\ERA5_Feb2020_Attribution')\n",
    "filename_sfc_O = 'ERA5_orograpy-lsm.nc'\n",
    "ncdf_O = netCDF4.Dataset(filename_sfc_O)\n",
    "lsm = ncdf_O.variables['lsm'][::2]\n",
    "lsm = lsm[:,::2,::2]\n",
    "lsm3d = np.repeat(lsm, np.shape(dtimes), axis=0)\n",
    "t2mm = np.ma.masked_array(t2m, mask=np.logical_not(lsm3d))\n",
    "#TClimm = np.ma.masked_array(TClim, mask=np.logical_not(lsm_AP))\n",
    "\n",
    "lsm_AP = lsm[:,AP_ilats[0]:AP_ilats[1]+1, AP_ilons[1]:AP_ilons[0]+1]\n",
    "TClimm = np.ma.masked_array(TClim, mask=np.logical_not(lsm))\n",
    "#TClim_APm = np.ma.masked_array(TClim_AP, mask=np.logical_not(lsm_AP))\n",
    "weighting_grid_APm = np.ma.masked_array(weighting_grid_AP, mask=np.logical_not(lsm_AP))\n",
    "T2M611Feb_mean_APm = np.sum(weighting_grid_APm*(T611Feb[AP_ilats[0]:AP_ilats[1]+1, AP_ilons[1]:AP_ilons[0]+1]-TClimm[AP_ilats[0]:AP_ilats[1]+1, AP_ilons[1]:AP_ilons[0]+1]))/np.sum(weighting_grid_APm) #mean weighted by sqrt(cos(lat))\n",
    "T2M611Feb_mean_APm"
   ]
  },
  {
   "cell_type": "code",
   "execution_count": 8,
   "metadata": {},
   "outputs": [],
   "source": [
    "#######################################################\n",
    "#Calculate the percentile of 6 day temperature from 1950-to-2019 and compare with 2020\n",
    "#######################################################\n",
    "#Calculate mean Tempearture of Feb 2020 and TClim (mean) of Feb 1950-2019\n",
    "dtimes_Clim = dtimes[dtimes < np.datetime64('2019-03-01T00:00')]\n",
    "\n",
    "#Calculate the mean of 6 day temperature from 5-10 Feb 2020\n",
    "T2m_6day_meanm = np.empty((np.size(dtimes_Clim-6), np.size(t2mm,1), np.size(t2mm,2)))\n",
    "for i in range(np.size(dtimes_Clim-6)):\n",
    "    T2m_6day_meanm[i,:,:] = np.mean(t2mm[i:i+6,:,:], axis=0)\n",
    "\n",
    "#Calculate the mean of 6 day temperature from 6-10 Feb 2020\n",
    "T2M611Feb_meanm = np.mean(t2mm[np.where(dtimes == np.datetime64('2020-02-06T00:00'))[0][0]:np.where(dtimes == np.datetime64('2020-02-11T00:00'))[0][0]+1,:,:], axis=0)\n",
    "\n",
    "#Calculate and save the percentile\n",
    "#T2M611Feb_percentile = np.empty((np.size(T2m_6day_meanm, 1),np.size(T2m_5day_meanm, 2)))\n",
    "#for i in range(np.size(T2m_6day_meanm, 1)):\n",
    "#    for j in range(np.size(T2m_6day_meanm, 2)):\n",
    "#        T2M611Feb_percentile[i,j] = scipy.stats.percentileofscore(T2m_5day_meanm[:,i,j], T2M611Feb_meanm[i,j])\n",
    "#np.savetxt('T2M611Feb_percentile_24H.csv', T2M611Feb_percentile, fmt='%.1f', delimiter=';')"
   ]
  },
  {
   "cell_type": "code",
   "execution_count": 9,
   "metadata": {},
   "outputs": [],
   "source": [
    "#Create dataframe with mean temperature for WA and AP\n",
    "T2M_6day_mean_AP = np.sum(weighting_grid_APm*(T2m_6day_meanm[:, AP_ilats[0]:AP_ilats[1]+1, AP_ilons[1]:AP_ilons[0]+1]-TClimm[AP_ilats[0]:AP_ilats[1]+1, AP_ilons[1]:AP_ilons[0]+1]), axis=(1,2))/np.sum(weighting_grid_APm)\n",
    "T2M611Feb_mean_AP = np.sum(weighting_grid_APm*(T611Feb[AP_ilats[0]:AP_ilats[1]+1, AP_ilons[1]:AP_ilons[0]+1]-TClimm[AP_ilats[0]:AP_ilats[1]+1, AP_ilons[1]:AP_ilons[0]+1]))/np.sum(weighting_grid_APm) #mean weighted by sqrt(cos(lat))"
   ]
  },
  {
   "cell_type": "code",
   "execution_count": 11,
   "metadata": {
    "scrolled": false
   },
   "outputs": [
    {
     "data": {
      "image/png": "[encoded data removed]",
      "text/plain": [
       "<Figure size 720x432 with 1 Axes>"
      ]
     },
     "metadata": {},
     "output_type": "display_data"
    }
   ],
   "source": [
    "fig, (ax1)  = plt.subplots(1, 1, sharex=True, gridspec_kw={'hspace': 0}, figsize=(10,6), facecolor='white')\n",
    "\n",
    "ax1.hist(T2M_6day_mean_AP, bins=np.arange(-5,5,0.2), density=True, facecolor='gray', alpha=.5)\n",
    "ax1.hist(T2M_6day_mean_AP[:2068], bins=np.arange(-5,5,0.2), density=True, histtype='step', color='DodgerBlue')\n",
    "ax1.hist(T2M_6day_mean_AP[2074:], bins=np.arange(-5,5,0.2), density=True, histtype='step', color='Crimson')\n",
    "ax1.plot([T2M611Feb_mean_APm,T2M611Feb_mean_APm], [0,1],'k--')\n",
    "ax1.set_ylim(0,0.4)\n",
    "ax1.set_xlabel('Temperature anomaly [$^\\circ C$]')\n",
    "ax1.set_ylabel('Frequency')\n",
    "\n",
    "plt.savefig('ERA5_avgrunningThist_611Feb2020_24H.png')"
   ]
  },
  {
   "cell_type": "code",
   "execution_count": 12,
   "metadata": {},
   "outputs": [
    {
     "name": "stdout",
     "output_type": "stream",
     "text": [
      "1.807954748170984\n",
      "2.137277946685879\n",
      "2.789383463928681\n"
     ]
    }
   ],
   "source": [
    "#Percentile\n",
    "print(np.percentile(T2M_6day_mean_AP, 90))\n",
    "print(np.percentile(T2M_6day_mean_AP, 95))\n",
    "print(np.percentile(T2M_6day_mean_AP, 99))"
   ]
  },
  {
   "cell_type": "code",
   "execution_count": 18,
   "metadata": {},
   "outputs": [
    {
     "name": "stdout",
     "output_type": "stream",
     "text": [
      "AP 1950-1984: -0.3678686459205909\n",
      "AP 1985-2019: 0.39643228042600753\n",
      "AP Reg: [ 1.8073581e-02 -3.5867574e+01]\n",
      "0.01807358097749864 -35.86757402754278 9.434826143397745e-07\n"
     ]
    },
    {
     "data": {
      "image/png": "[encoded data removed]",
      "text/plain": [
       "<Figure size 720x144 with 1 Axes>"
      ]
     },
     "metadata": {},
     "output_type": "display_data"
    }
   ],
   "source": [
    "####################\n",
    "##Plot Feb 2020 Mean Temperatures\n",
    "####################\n",
    "\n",
    "#Sectors indexs\n",
    "#AP_lons = [-55, -76]\n",
    "#AP_lats = [-63, -70]\n",
    "#AP_ilats = [np.where(lats == AP_lats[0])[0][0],np.where(lats == AP_lats[1])[0][0]]\n",
    "#AP_ilons = [np.where(lons == AP_lons[0])[0][0],np.where(lons == AP_lons[1])[0][0]]\n",
    "\n",
    "#Create dataframe with mean temperature for WA and AP\n",
    "tmean_AP = np.sum(weighting_grid_APm*(t2mm[:, AP_ilats[0]:AP_ilats[1]+1, AP_ilons[1]:AP_ilons[0]+1]-TClim[AP_ilats[0]:AP_ilats[1]+1, AP_ilons[1]:AP_ilons[0]+1]), axis=(1,2))/np.sum(weighting_grid_APm)\n",
    "data = {'Tmean_AP': tmean_AP}\n",
    "df = pd.DataFrame(data=data, index=dtimes)\n",
    "\n",
    "years = np.arange(1950,2021)\n",
    "df_AP_years = df['Tmean_AP'].groupby(df.index.year).mean()\n",
    "\n",
    "#Plot mean temperature\n",
    "fig, (ax1)  = plt.subplots(1, 1, sharex=True, gridspec_kw={'hspace': 0}, figsize=(10,2), facecolor='white')\n",
    "\n",
    "ax1.plot(years, df_AP_years, '-', color='gray')\n",
    "ax1.plot([1950,1984], [df_AP_years[:35].mean(), df_AP_years[:35].mean()], '-', color='DodgerBlue')\n",
    "ax1.plot([1985,2019], [df_AP_years[35:-1].mean(), df_AP_years[35:-1].mean()], '-', color='Crimson')\n",
    "coef = np.polyfit(years[:-1], df_AP_years[:-1].values, 1)\n",
    "poly1d_fn = np.poly1d(coef) \n",
    "ax1.plot(years, poly1d_fn(years), '--k')\n",
    "ax1.set_xlim(1951,2020)\n",
    "ax1.set_ylabel('Temperature anomaly [$^\\circ C$]')\n",
    "print('AP 1950-1984: ' + str(df_AP_years[1:35].mean()))\n",
    "print('AP 1985-2019: ' + str(df_AP_years[35:-1].mean()))\n",
    "print('AP Reg: ' + str(coef))\n",
    "\n",
    "slope, intercept, r_value, p_value, std_err = stats.linregress(years[:-1], df_AP_years[:-1].values)\n",
    "print(slope, intercept, p_value)\n",
    "\n",
    "\n",
    "#label\n",
    "#ax1.annotate('ERA5 Antarctic Peninsula Sector', xy=(0.995, 0.05), xycoords='axes fraction', ha='right')\n",
    "\n",
    "#Saveplot\n",
    "plt.savefig('ERA5_meanmonthlyT_JanFeb_24H.png')"
   ]
  },
  {
   "cell_type": "code",
   "execution_count": null,
   "metadata": {},
   "outputs": [],
   "source": []
  }
 ],
 "metadata": {
  "kernelspec": {
   "display_name": "Python 3",
   "language": "python",
   "name": "python3"
  },
  "language_info": {
   "codemirror_mode": {
    "name": "ipython",
    "version": 3
   },
   "file_extension": ".py",
   "mimetype": "text/x-python",
   "name": "python",
   "nbconvert_exporter": "python",
   "pygments_lexer": "ipython3",
   "version": "3.8.5"
  }
 },
 "nbformat": 4,
 "nbformat_minor": 4
}
